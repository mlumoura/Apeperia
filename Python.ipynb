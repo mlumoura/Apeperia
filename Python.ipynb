{
  "nbformat": 4,
  "nbformat_minor": 5,
  "metadata": {
    "kernelspec": {
      "name": "python3",
      "display_name": "Python 3.9.5 64-bit"
    },
    "language_info": {
      "codemirror_mode": {
        "name": "ipython",
        "version": 3
      },
      "file_extension": ".py",
      "mimetype": "text/x-python",
      "name": "python",
      "nbconvert_exporter": "python",
      "pygments_lexer": "ipython3",
      "version": "3.9.5"
    },
    "colab": {
      "name": "Dicas de sintaxe do Python.ipynb",
      "provenance": []
    },
    "interpreter": {
      "hash": "916dbcbb3f70747c44a77c7bcd40155683ae19c65e1c03b4aa3499c5328201f1"
    }
  },
  "cells": [
    {
      "cell_type": "markdown",
      "source": [
        "# Dicas de sintaxe do Python"
      ],
      "metadata": {
        "id": "incMEzozpiMc"
      },
      "id": "incMEzozpiMc"
    },
    {
      "cell_type": "markdown",
      "source": [
        "Quer aprender Python, mas não sabe por onde começar? Esse tutorial foi feito para você. Ele é baseado em uma tradução do notebook [Python syntax cheat sheet](https://github.com/ireapps/teaching-guide-intro-to-pandas/blob/master/Python%20syntax%20cheat%20sheet.ipynb), que foi revisada e expandida pela Escola de Dados.\n",
        "\n",
        "Aqui, focaremos em conhecimentos básicos sobre a linguagem.\n",
        "\n",
        "Seguiremos as seguintes etapas:\n",
        "\n",
        "- Usando notebooks\n",
        "- Tipos embutidos\n",
        "    - Strings\n",
        "    - Números e operações matemáticas\n",
        "    - Booleanos\n",
        "- Atribuição de variável\n",
        "- Métodos de string\n",
        "- Comentários\n",
        "- A função `print()`\n",
        "- Coleções de dados\n",
        "    - Listas\n",
        "    - Dicionários\n",
        "- Estrutura de repetição `for`\n",
        "- Declarações `if`\n",
        "\n",
        "Pronto? Vamos lá!"
      ],
      "metadata": {
        "id": "24c0378a"
      },
      "id": "24c0378a"
    },
    {
      "cell_type": "markdown",
      "source": [
        "# Usando notebooks"
      ],
      "metadata": {
        "id": "8bgiQd0goQOA"
      },
      "id": "8bgiQd0goQOA"
    },
    {
      "cell_type": "markdown",
      "source": [
        "Há muitas maneiras de escrever e rodar um código Python no seu computador. Uma delas - o método que estamos usando aqui - é usar os notebooks, que nada mais são do que documentos interativos que permitem escrever códigos, executá-los e ver os resultados. Tudo no mesmo lugar.\n",
        "\n",
        "Notebooks podem ser utilizados online. É o caso, por exemplo, do [Google Colab](https://colab.research.google.com/) ou do site do [Jupyter](https://jupyter.org/try). Também é possível trabalhar com eles de forma offline, mas diretamente do seu navegador, com o [Jupyter Notebook](https://jupyter.org/). Outra opção ainda é usar algum outro programa que tenha suporte a notebooks, como o [Visual Studio Code](https://code.visualstudio.com/).\n",
        "\n",
        "Os notebooks são muito úteis para análise de dados, pois permitem deixar seu código bem documentado, com explicações sobre o que acontece em cada etapa do processo. Além de códigos, você pode incluir textos (como este que você está lendo) no formato \"markdown\". Você pode encontrar exemplos de notebook em alguns de nossos [tutoriais da Escola de Dados](https://escoladedados.org/tutoriais/), como este sobre [cruzar dados de desmatamento e agropecuária usando Python](https://escoladedados.org/tutoriais/dados-de-desmatamento-e-agropecuaria-python/)."
      ],
      "metadata": {
        "id": "RVJeLciMoRV4"
      },
      "id": "RVJeLciMoRV4"
    },
    {
      "cell_type": "markdown",
      "source": [
        "Basicamente, o funcionamento de um notebook consiste em incluir novas células e executá-las.\n",
        "\n",
        "*  **Para adicionar uma nova célula**:\n",
        "    * Jupyter Notebook:  Clique no ícone  `+` embaixo do menu `File` e escolha se quer texto (markdown) ou código (Code) no menu suspenso embaixo do menu `Widgets`.\n",
        "    * Google Colab: Clique em `+ Código` ou `+ Texto`, embaixo do menu `Arquivo`.\n",
        "\n",
        "*  **Para executar uma célula de código:** Pressione `Shift` + `Enter`.\n",
        "\n",
        "## Erros comuns\n",
        "\n",
        "**Não executar as células**: O notebook não \"sabe\" o código que está na célula até que ele seja executado. Por exemplo, se você definir uma variável chamada `meu_nome` em uma célula e depois tentar acessar essa mesma variável em outra célula sem executar a célula que contém a variável antes, você receberá um erro: `NameError: name 'meu_nome' is not defined`.\n",
        "\n",
        "A solução é simplesmente rodar a célula onde está a variável. Repare que ao lado de cada notebook há um número, que indica a ordem de execução das células.\n",
        "\n",
        "**A célula \"congela\" em alguma execução**: Se ao executar uma célula, ela fica rodando \"para sempre\", com um sinal de `*` no lugar do número que indica a ordem de execução, então, provavelmente aconteceu alguma destas possibilidades: o código de fato leva muito tempo para ser executado, entrou em um loop infinito ou o \"kernel\" (que é como o \"cérebro\" do notebook, que de fato interpreta e executado os comandos) travou e será preciso reiniciá-lo. Neste caso, você pode clicar no botão com o símbolo quadrado de \"stop\" ou reiniciar o kernel.\n"
      ],
      "metadata": {
        "id": "D8kcyrqjo0xk"
      },
      "id": "D8kcyrqjo0xk"
    },
    {
      "cell_type": "markdown",
      "source": [
        "# Tipos embutidos"
      ],
      "metadata": {
        "id": "6ca6b073"
      },
      "id": "6ca6b073"
    },
    {
      "cell_type": "markdown",
      "source": [
        "Assim como Excel e outros softwares de processamento de dados, Python reconhece uma gama de diferentes tipos de dados, sendo que três deles receberão mais ênfase aqui:\n",
        "\n",
        "- Strings (texto)\n",
        "- Números (inteiros ou `int`, números com casas decimais ou `float`, por exemplo)\n",
        "- Booleanos (`True`(verdadeiro) e `False`(falso)).\n",
        "\n",
        "Você pode usar a função embutida [`type()`](https://docs.python.org/pt-br/3/library/functions.html#type) para verificar o tipo de dado de um valor qualquer. Rode a célula abaixo para visualizar um exemplo:"
      ],
      "metadata": {
        "id": "0ibIOohzqH-9"
      },
      "id": "0ibIOohzqH-9"
    },
    {
      "cell_type": "code",
      "execution_count": null,
      "source": [
        "type(45)"
      ],
      "outputs": [],
      "metadata": {
        "id": "af15c560"
      },
      "id": "af15c560"
    },
    {
      "cell_type": "markdown",
      "source": [
        "# Strings\n",
        "\n"
      ],
      "metadata": {
        "id": "ea34572a"
      },
      "id": "ea34572a"
    },
    {
      "cell_type": "markdown",
      "source": [
        "Uma string é um conjunto de caracteres - letras, números, acentos ou o que quer que seja - acompanhado de aspas simples ou duplas, não importando qual, contanto que as aspas de início e fim sejam iguais. O código nesse notebook usa aspas simples. O guia de estilo do Python não recomenda alternar entre aspas, [\"escolha uma e vá com ela até o fim.\"](https://www.python.org/dev/peps/pep-0008/#string-quotes).\n",
        "\n",
        "Rode a célula abaixo para ver um exemplo:"
      ],
      "metadata": {
        "id": "pi6oT35ar9kL"
      },
      "id": "pi6oT35ar9kL"
    },
    {
      "cell_type": "code",
      "execution_count": null,
      "source": [
        "'Olá Mundo!'"
      ],
      "outputs": [],
      "metadata": {
        "id": "zVj-rkDRBqIg"
      },
      "id": "zVj-rkDRBqIg"
    },
    {
      "cell_type": "code",
      "execution_count": null,
      "source": [
        "\"Python é uma linguagem de programação\""
      ],
      "outputs": [],
      "metadata": {
        "id": "ymRKW58mCTs5"
      },
      "id": "ymRKW58mCTs5"
    },
    {
      "cell_type": "markdown",
      "source": [
        "Se a sua string possuir apostrófos ou citações, você tem duas opções para fazer o sinal. Execute as células para conferir:  \n",
        "\n",
        "1. \"Escapar\" o caractere, colocando uma barra invertida (`\\`) antes dele:"
      ],
      "metadata": {
        "id": "oR5KnsYjBo6L"
      },
      "id": "oR5KnsYjBo6L"
    },
    {
      "cell_type": "code",
      "execution_count": null,
      "source": [
        "\"Já tomou um copo d\\'água hoje?\""
      ],
      "outputs": [],
      "metadata": {
        "id": "P_nuh4Ao8RMQ"
      },
      "id": "P_nuh4Ao8RMQ"
    },
    {
      "cell_type": "markdown",
      "source": [
        "2.   Mudar as aspas simples para aspas duplas:"
      ],
      "metadata": {
        "id": "ncz8qSCP8q1M"
      },
      "id": "ncz8qSCP8q1M"
    },
    {
      "cell_type": "code",
      "execution_count": null,
      "source": [
        "\"Já tomou um copo d'água hoje?\""
      ],
      "outputs": [],
      "metadata": {
        "id": "a0hBLAQM8wug"
      },
      "id": "a0hBLAQM8wug"
    },
    {
      "cell_type": "markdown",
      "source": [
        "Na prática, as duas alternativas funcionam da mesma forma. Mas a segunda opção é mais recomendada."
      ],
      "metadata": {
        "id": "7DlC9xTYp_VV"
      },
      "id": "7DlC9xTYp_VV"
    },
    {
      "cell_type": "markdown",
      "source": [
        "Quando você chama a funcão `type()` em uma string, o Python irá lhe retornar `str`."
      ],
      "metadata": {
        "id": "NdryWjbA81Ir"
      },
      "id": "NdryWjbA81Ir"
    },
    {
      "cell_type": "code",
      "execution_count": null,
      "source": [
        "type('Olá!')"
      ],
      "outputs": [],
      "metadata": {
        "id": "56ebdf96"
      },
      "id": "56ebdf96"
    },
    {
      "cell_type": "markdown",
      "source": [
        "Chamando a [função `str()`](https://docs.python.org/pt-br/3/library/stdtypes.html#str) em um valor qualquer, irá lhe retornar aquele mesmo valor convertido em string. Pode parecer que não muda nada, mas lembre-se que não é possível fazer operações matemáticas como substração, soma ou média com strings. É um erro comum na análise de dados tentar - sem sucesso - realizar operações do tipo em alguma coluna de uma base de dados, pois a variável apesar de ter números é interpretada como uma string."
      ],
      "metadata": {
        "id": "iNIBsmUY-Dn7"
      },
      "id": "iNIBsmUY-Dn7"
    },
    {
      "cell_type": "code",
      "execution_count": null,
      "source": [
        "str(45)"
      ],
      "outputs": [],
      "metadata": {
        "id": "cbbcd41d"
      },
      "id": "cbbcd41d"
    },
    {
      "cell_type": "markdown",
      "source": [
        "Você pode utilizar uma função dentro de outra função:"
      ],
      "metadata": {
        "id": "FJYOyHQ8_yuT"
      },
      "id": "FJYOyHQ8_yuT"
    },
    {
      "cell_type": "code",
      "execution_count": null,
      "source": [
        "type(str(45))"
      ],
      "outputs": [],
      "metadata": {
        "id": "92f686f6"
      },
      "id": "92f686f6"
    },
    {
      "cell_type": "markdown",
      "source": [
        "Também pode passar um valor boleano e a função identificará como string:"
      ],
      "metadata": {
        "id": "DcGISO_o_8DR"
      },
      "id": "DcGISO_o_8DR"
    },
    {
      "cell_type": "code",
      "execution_count": null,
      "source": [
        "str(True)"
      ],
      "outputs": [],
      "metadata": {
        "id": "3d4d3cfd"
      },
      "id": "3d4d3cfd"
    },
    {
      "cell_type": "markdown",
      "source": [
        "Se você \"adicionar\" strings com um sinal de mais `+`, elas serão concatenadas:"
      ],
      "metadata": {
        "id": "fa70968e"
      },
      "id": "fa70968e"
    },
    {
      "cell_type": "code",
      "execution_count": null,
      "source": [
        "'SEXTA' + '-' + 'FEIRA'"
      ],
      "outputs": [],
      "metadata": {
        "id": "ca9c4c1d"
      },
      "id": "ca9c4c1d"
    },
    {
      "cell_type": "markdown",
      "source": [
        "Agora que você já sabe disso, qual a diferença entre as duas células abaixo? E por que elas produzem resultados diferentes?"
      ],
      "metadata": {
        "id": "MIF55qcdp_VY"
      },
      "id": "MIF55qcdp_VY"
    },
    {
      "cell_type": "code",
      "execution_count": null,
      "source": [
        "5+5"
      ],
      "outputs": [],
      "metadata": {
        "id": "MY4pZtu5p_VY"
      },
      "id": "MY4pZtu5p_VY"
    },
    {
      "cell_type": "code",
      "execution_count": null,
      "source": [
        "\"5\"+\"5\""
      ],
      "outputs": [],
      "metadata": {
        "id": "a0PgcAr0p_VY"
      },
      "id": "a0PgcAr0p_VY"
    },
    {
      "cell_type": "markdown",
      "source": [
        "# Números e operações matemáticas\n"
      ],
      "metadata": {
        "id": "341b5053"
      },
      "id": "341b5053"
    },
    {
      "cell_type": "markdown",
      "source": [
        "O Python reconhece diversos tipos de dados numéricos. Os dois mais comuns são:\n",
        "\n",
        "*   integers (números inteiros)"
      ],
      "metadata": {
        "id": "pq1ZlP8-AwMf"
      },
      "id": "pq1ZlP8-AwMf"
    },
    {
      "cell_type": "code",
      "execution_count": null,
      "source": [
        "type(12)"
      ],
      "outputs": [],
      "metadata": {
        "id": "4db1e575"
      },
      "id": "4db1e575"
    },
    {
      "cell_type": "markdown",
      "source": [
        "*   floats (números com casas decimais)."
      ],
      "metadata": {
        "id": "6Ygo-jylC9FL"
      },
      "id": "6Ygo-jylC9FL"
    },
    {
      "cell_type": "code",
      "execution_count": null,
      "source": [
        "type(12.4)"
      ],
      "outputs": [],
      "metadata": {
        "id": "dba37e48"
      },
      "id": "dba37e48"
    },
    {
      "cell_type": "markdown",
      "source": [
        "Assim como a função `str()` converte qualquer valor em string, chamar a função `int()` em um tipo de dado númerico (mesmo que este esteja no formato string) tentará forçá-lo a ser um inteiro."
      ],
      "metadata": {
        "id": "zLgVTnQWC2HN"
      },
      "id": "zLgVTnQWC2HN"
    },
    {
      "cell_type": "code",
      "execution_count": null,
      "source": [
        "int(35.6)"
      ],
      "outputs": [],
      "metadata": {
        "id": "373c06c3"
      },
      "id": "373c06c3"
    },
    {
      "cell_type": "code",
      "execution_count": null,
      "source": [
        "int('45')"
      ],
      "outputs": [],
      "metadata": {
        "id": "0246bae3"
      },
      "id": "0246bae3"
    },
    {
      "cell_type": "markdown",
      "source": [
        "O mesmo acontece quando utilizamos a função `float()`."
      ],
      "metadata": {
        "id": "A4eqjDqHDRju"
      },
      "id": "A4eqjDqHDRju"
    },
    {
      "cell_type": "code",
      "execution_count": null,
      "source": [
        "float(46)"
      ],
      "outputs": [],
      "metadata": {
        "id": "207484ed"
      },
      "id": "207484ed"
    },
    {
      "cell_type": "code",
      "execution_count": null,
      "source": [
        "float('45')"
      ],
      "outputs": [],
      "metadata": {
        "id": "eb2e4da7"
      },
      "id": "eb2e4da7"
    },
    {
      "cell_type": "markdown",
      "source": [
        "O Python permite realizar operações matemáticas das mais [básicas](https://www.digitalocean.com/community/tutorials/how-to-do-math-in-python-3-with-operators) até as mais [avançadas](https://docs.python.org/pt-br/3/library/math.html). Vejamos abaixo as quatro operações elementares em ação."
      ],
      "metadata": {
        "id": "92a7ec20"
      },
      "id": "92a7ec20"
    },
    {
      "cell_type": "code",
      "execution_count": null,
      "source": [
        "4+2"
      ],
      "outputs": [],
      "metadata": {
        "id": "407000af"
      },
      "id": "407000af"
    },
    {
      "cell_type": "code",
      "execution_count": null,
      "source": [
        "10-9"
      ],
      "outputs": [],
      "metadata": {
        "id": "80df518e"
      },
      "id": "80df518e"
    },
    {
      "cell_type": "code",
      "execution_count": null,
      "source": [
        "5*10"
      ],
      "outputs": [],
      "metadata": {
        "id": "029b0ade"
      },
      "id": "029b0ade"
    },
    {
      "cell_type": "code",
      "execution_count": null,
      "source": [
        "1000/10"
      ],
      "outputs": [],
      "metadata": {
        "id": "d2fa900e"
      },
      "id": "d2fa900e"
    },
    {
      "cell_type": "markdown",
      "source": [
        "Para elevar um número à potência de outro número, utilize dois asterísticos `**`."
      ],
      "metadata": {
        "id": "yBPhCF0cELKo"
      },
      "id": "yBPhCF0cELKo"
    },
    {
      "cell_type": "code",
      "execution_count": null,
      "source": [
        "5**2"
      ],
      "outputs": [],
      "metadata": {
        "id": "c6aaa9d8"
      },
      "id": "c6aaa9d8"
    },
    {
      "cell_type": "markdown",
      "source": [
        "# Booleanos"
      ],
      "metadata": {
        "id": "edwadkzyEmlw"
      },
      "id": "edwadkzyEmlw"
    },
    {
      "cell_type": "markdown",
      "source": [
        "Assim como o Excel, que possui os tipos `VERDADEIRO` e `FALSO`, Python possui tipos booleanos. Eles são `True` e `False` -- perceba que eles não devem vir acompanhados de aspas e que apenas as iniciais devem ser maiúsculas.\n",
        "\n",
        "Normalmente valores booleanos são retornados quando você está trabalhando com algum tipo de declaração condicional - comparando valores, verificando se uma string está dentro de outra string, se um valor está contido em uma lista, etc."
      ],
      "metadata": {
        "id": "74c8ca31"
      },
      "id": "74c8ca31"
    },
    {
      "cell_type": "code",
      "execution_count": null,
      "source": [
        "type(False)"
      ],
      "outputs": [],
      "metadata": {
        "id": "37acbfee"
      },
      "id": "37acbfee"
    },
    {
      "cell_type": "code",
      "execution_count": null,
      "source": [
        "type(True)"
      ],
      "outputs": [],
      "metadata": {
        "id": "280394e0"
      },
      "id": "280394e0"
    },
    {
      "cell_type": "markdown",
      "source": [
        "Os [operadores lógicos do Python](https://docs.python.org/pt-br/3/reference/expressions.html#comparisons) são:\n",
        "\n",
        "- `>` maior que\n",
        "- `<` menor que\n",
        "- `>=` maior que ou igual a\n",
        "- `<=` menor que ou igual a\n",
        "- `==` igual a\n",
        "- `!=` diferente de"
      ],
      "metadata": {
        "id": "Zi33OvbsE9VD"
      },
      "id": "Zi33OvbsE9VD"
    },
    {
      "cell_type": "markdown",
      "source": [
        "Repare que o símbolo de igual (`=`) é utilizado para declarar algum valor. Por exemplo. `ano = 2021` declara o número 2021 a uma variável (falaremos mais sobre elas em breve) chamada *ano*.\n",
        "\n",
        "Mas quando utilizamos `==` é como se estivéssemos fazendo uma pergunta: isto é igual a aquilo?\n",
        "\n",
        "Vejamos um exemplo abaixo. Primeiro, vamos declarar a variável `ano`, visualizá-la e depois usar o operador lógico `==`."
      ],
      "metadata": {
        "id": "WdqEB770p_Vt"
      },
      "id": "WdqEB770p_Vt"
    },
    {
      "cell_type": "code",
      "execution_count": null,
      "source": [
        "ano = 2021"
      ],
      "outputs": [],
      "metadata": {
        "id": "cYNB-a17p_Vu"
      },
      "id": "cYNB-a17p_Vu"
    },
    {
      "cell_type": "code",
      "execution_count": null,
      "source": [
        "ano"
      ],
      "outputs": [],
      "metadata": {
        "id": "_pVR4EGQp_Vu"
      },
      "id": "_pVR4EGQp_Vu"
    },
    {
      "cell_type": "code",
      "execution_count": null,
      "source": [
        "ano == 1900"
      ],
      "outputs": [],
      "metadata": {
        "id": "gNNii4swp_Vu"
      },
      "id": "gNNii4swp_Vu"
    },
    {
      "cell_type": "code",
      "execution_count": null,
      "source": [
        "ano == 2021"
      ],
      "outputs": [],
      "metadata": {
        "id": "lJwbX9tTp_Vv"
      },
      "id": "lJwbX9tTp_Vv"
    },
    {
      "cell_type": "markdown",
      "source": [
        "Se a célula `ano == 1900` fosse executada com apenas um símbolo igual, ao invés de \"perguntar\" se a variável `ano` é igual 2021, estaríamos sobreescrevendo este número e atribuindo um novo valor (1900) a ela.\n",
        "\n",
        "Abaixo, você encontra outros exemplos de operadores lógicos."
      ],
      "metadata": {
        "id": "PDEKnTeep_Vw"
      },
      "id": "PDEKnTeep_Vw"
    },
    {
      "cell_type": "code",
      "execution_count": null,
      "source": [
        "4 > 6"
      ],
      "outputs": [],
      "metadata": {
        "id": "294936f3"
      },
      "id": "294936f3"
    },
    {
      "cell_type": "code",
      "execution_count": null,
      "source": [
        "4 < 6"
      ],
      "outputs": [],
      "metadata": {
        "id": "d8b39e75"
      },
      "id": "d8b39e75"
    },
    {
      "cell_type": "markdown",
      "source": [
        "Python é uma linguagem case sensitive, ou seja, a mesma palavra pode ser entendida como uma palavra diferente simplesmente porque uma letra está maiuscula ou minúscula."
      ],
      "metadata": {
        "id": "mBJLggCjFBoz"
      },
      "id": "mBJLggCjFBoz"
    },
    {
      "cell_type": "code",
      "execution_count": null,
      "source": [
        "'Python' == 'python'"
      ],
      "outputs": [],
      "metadata": {
        "id": "8c47a09a"
      },
      "id": "8c47a09a"
    },
    {
      "cell_type": "markdown",
      "source": [
        "# Atribuição de variável"
      ],
      "metadata": {
        "id": "BmCR_H-qFjmK"
      },
      "id": "BmCR_H-qFjmK"
    },
    {
      "cell_type": "markdown",
      "source": [
        "O sinal de igual (`=`) atribui um valor a uma variável. Pense em uma variável simplesmente como algo que... pode variar ou cujo valor poder mudar. Ou como uma etiqueta que tem algum valor atribuído a ela.\n",
        "\n",
        "Por exemplo, eu posso declarar `nome = 'Maria Carolina Sousa Silva Santos Albuquerque'` e, se eu precisar utilizar este nome no futuro, ao invés de digitá-lo novamente, posso simplesmente chamar minha variável `nome`.\n",
        "\n",
        "Nomes de variáveis podem ser qualquer coisa que nós quiseremos, mas existem algumas regras e convenções para serem seguidas:\n",
        "\n",
        "- Eles devem começar apenas com letras ou traço baixo (underscore: `_`) e podem conter letras, *underscore* ou números;\n",
        "- Os nomes são `case sensitives`. Ou seja, `Ano` é diferente de `ano`. Em geral, em Python, usamos os nomes das variáveis todos em minúsculas e com underscore para separar palavras quando necessário.\n",
        "- Use nomes de variáveis que sejam descritivos e sigam estas convenções do mundo Python. Por exemplo, é melhor usar `ano_nascimento` do que `AnoNascimento` ou `AnNasc`.\n",
        "\n",
        "Para saber mais sobre o assunto, você pode conferir este texto do [site The Hello World Program](https://thehelloworldprogram.com/python/python-variable-assignment-statements-rules-conventions-naming/) ou [esta explicação do Digital Ocean](https://www.digitalocean.com/community/tutorials/how-to-use-variables-in-python-3)."
      ],
      "metadata": {
        "id": "d6f4ec68"
      },
      "id": "d6f4ec68"
    },
    {
      "cell_type": "code",
      "execution_count": null,
      "source": [
        "meu_nome = 'Francisco'"
      ],
      "outputs": [],
      "metadata": {
        "id": "b8cb8f06"
      },
      "id": "b8cb8f06"
    },
    {
      "cell_type": "code",
      "execution_count": null,
      "source": [
        "meu_nome"
      ],
      "outputs": [],
      "metadata": {
        "id": "b85454aa"
      },
      "id": "b85454aa"
    },
    {
      "cell_type": "code",
      "execution_count": null,
      "source": [
        "meu_numero_preferido = 10 + 3"
      ],
      "outputs": [],
      "metadata": {
        "id": "a1f8bfb3"
      },
      "id": "a1f8bfb3"
    },
    {
      "cell_type": "code",
      "execution_count": null,
      "source": [
        "meu_numero_preferido"
      ],
      "outputs": [],
      "metadata": {
        "id": "5fde36f0"
      },
      "id": "5fde36f0"
    },
    {
      "cell_type": "markdown",
      "source": [
        "Também é possível fazer operações com variáveis:"
      ],
      "metadata": {
        "id": "8ccb217e"
      },
      "id": "8ccb217e"
    },
    {
      "cell_type": "code",
      "execution_count": null,
      "source": [
        "times_da_nfl = 32\n",
        "times_da_mlb = 30\n",
        "times_da_nba = 30\n",
        "times_da_nhl = 31\n",
        "\n",
        "quantidade_de_times_profissionais = times_da_nfl + times_da_mlb + times_da_nba + times_da_nhl"
      ],
      "outputs": [],
      "metadata": {
        "id": "7a705ddc"
      },
      "id": "7a705ddc"
    },
    {
      "cell_type": "code",
      "execution_count": null,
      "source": [
        "quantidade_de_times_profissionais"
      ],
      "outputs": [],
      "metadata": {
        "id": "be48074a"
      },
      "id": "be48074a"
    },
    {
      "cell_type": "markdown",
      "source": [
        "# Métodos de string\n"
      ],
      "metadata": {
        "id": "5bfd93a1"
      },
      "id": "5bfd93a1"
    },
    {
      "cell_type": "markdown",
      "source": [
        "Voltando a falar de strings, é importante ressaltar que esses objetos possuem uma série de [métodos](https://docs.python.org/pt-br/3/library/stdtypes.html#string-methods) muito úteis.\n",
        "\n",
        "Vamos usar uma string como exemplo para ilustrar os mais comuns."
      ],
      "metadata": {
        "id": "YmNxdkqJKpYv"
      },
      "id": "YmNxdkqJKpYv"
    },
    {
      "cell_type": "code",
      "execution_count": null,
      "source": [
        "minha_string = '    Oi, amigos!'\n",
        "minha_string"
      ],
      "outputs": [],
      "metadata": {
        "id": "44dd516a"
      },
      "id": "44dd516a"
    },
    {
      "cell_type": "markdown",
      "source": [
        "Podemos usar um ponto após a variável e chamar uma função, que irá operar sobre ela. Veja o exemplo do `upper()`, que deixa todos os caracteres de uma string em caixa alta:"
      ],
      "metadata": {
        "id": "1c2a8a8e"
      },
      "id": "1c2a8a8e"
    },
    {
      "cell_type": "code",
      "execution_count": null,
      "source": [
        "minha_string.upper()"
      ],
      "outputs": [],
      "metadata": {
        "id": "934e513c"
      },
      "id": "934e513c"
    },
    {
      "cell_type": "markdown",
      "source": [
        "`lower()` converte para minúsculos:"
      ],
      "metadata": {
        "id": "86a4d772"
      },
      "id": "86a4d772"
    },
    {
      "cell_type": "code",
      "execution_count": null,
      "source": [
        "minha_string.lower()"
      ],
      "outputs": [],
      "metadata": {
        "id": "7d1a06f4"
      },
      "id": "7d1a06f4"
    },
    {
      "cell_type": "markdown",
      "source": [
        "`replace()` irá substituir um trecho de texto com outro trecho a ser especificado por você:"
      ],
      "metadata": {
        "id": "ad42608d"
      },
      "id": "ad42608d"
    },
    {
      "cell_type": "code",
      "execution_count": null,
      "source": [
        "minha_string.replace('amigos', 'inimigos')"
      ],
      "outputs": [],
      "metadata": {
        "id": "914cf5e3"
      },
      "id": "914cf5e3"
    },
    {
      "cell_type": "markdown",
      "source": [
        "`count()` irá contar a quantidade de vezes que um caractere ou grupo de caracteres aparece na sua string:"
      ],
      "metadata": {
        "id": "6e4669ea"
      },
      "id": "6e4669ea"
    },
    {
      "cell_type": "code",
      "execution_count": null,
      "source": [
        "minha_string.count('o')"
      ],
      "outputs": [],
      "metadata": {
        "id": "642ed865"
      },
      "id": "642ed865"
    },
    {
      "cell_type": "markdown",
      "source": [
        "`split()` irá fatiar a string e armazená-la em uma [lista](#Listas) (iremos falar mais sobre elas já já) baseado em um delimitador. Caso você não defina um delimitador, o delimitador definido por padrão é um espaço em branco:"
      ],
      "metadata": {
        "id": "dc146a55"
      },
      "id": "dc146a55"
    },
    {
      "cell_type": "code",
      "execution_count": null,
      "source": [
        "minha_string.split()"
      ],
      "outputs": [],
      "metadata": {
        "id": "8663e077"
      },
      "id": "8663e077"
    },
    {
      "cell_type": "code",
      "execution_count": null,
      "source": [
        "minha_string.split(',')"
      ],
      "outputs": [],
      "metadata": {
        "id": "bbacea47"
      },
      "id": "bbacea47"
    },
    {
      "cell_type": "markdown",
      "source": [
        "Veja como a vírgula mudou de lugar no resultado da célula acima."
      ],
      "metadata": {
        "id": "nfJLSKv1p_V-"
      },
      "id": "nfJLSKv1p_V-"
    },
    {
      "cell_type": "code",
      "execution_count": null,
      "source": [
        "minha_string.split('texto_inexistente_na_string')"
      ],
      "outputs": [],
      "metadata": {
        "id": "7b7438ec"
      },
      "id": "7b7438ec"
    },
    {
      "cell_type": "markdown",
      "source": [
        "A função `strip()` remove espaços em branco das extremidade da sua string (mas não os espaços em branco internos):"
      ],
      "metadata": {
        "id": "1f1b0a96"
      },
      "id": "1f1b0a96"
    },
    {
      "cell_type": "code",
      "execution_count": null,
      "source": [
        "minha_string.strip()"
      ],
      "outputs": [],
      "metadata": {
        "id": "d4432f08"
      },
      "id": "d4432f08"
    },
    {
      "cell_type": "markdown",
      "source": [
        "Tem uma coisa muito incrível chamada \"encadeamento de método\" que te permite combinar métodos - é só adicioná-los um ao final do outro, com um ponto entre eles. Digamos que nós quiséssemos remover um espaço em branco da nossa string _e_ colocá-la em maiúsculo:"
      ],
      "metadata": {
        "id": "6a712332"
      },
      "id": "6a712332"
    },
    {
      "cell_type": "code",
      "execution_count": null,
      "source": [
        "minha_string.strip().upper()"
      ],
      "outputs": [],
      "metadata": {
        "id": "19938073"
      },
      "id": "19938073"
    },
    {
      "cell_type": "markdown",
      "source": [
        "Perceba que `count()` diferencia entre minúsculas e maiúsculas. Se o que você deseja é contar todas as letras 'o', você deve converter sua string original para maiúscula ou minúscula anteriormente."
      ],
      "metadata": {
        "id": "85a6ec19"
      },
      "id": "85a6ec19"
    },
    {
      "cell_type": "code",
      "execution_count": null,
      "source": [
        "minha_string.upper().count('O')"
      ],
      "outputs": [],
      "metadata": {
        "id": "01bc0e8b"
      },
      "id": "01bc0e8b"
    },
    {
      "cell_type": "markdown",
      "source": [
        "Veja que nossa string original permanece inalterada:"
      ],
      "metadata": {
        "id": "37046553"
      },
      "id": "37046553"
    },
    {
      "cell_type": "code",
      "execution_count": null,
      "source": [
        "minha_string"
      ],
      "outputs": [],
      "metadata": {
        "id": "8a8e9add"
      },
      "id": "8a8e9add"
    },
    {
      "cell_type": "markdown",
      "source": [
        "Mas por que isso? É que a gente não atribuiu os resultados dessas operações a nenhuma variável. Uma prática muito comum, especialmente quando estamos limpando dados, é atribuir os resultados a uma nova variável:"
      ],
      "metadata": {
        "id": "fe7ffaba"
      },
      "id": "fe7ffaba"
    },
    {
      "cell_type": "code",
      "execution_count": null,
      "source": [
        "minha_string_limpa = minha_string.strip().upper()"
      ],
      "outputs": [],
      "metadata": {
        "id": "ed59b96a"
      },
      "id": "ed59b96a"
    },
    {
      "cell_type": "code",
      "execution_count": null,
      "source": [
        "minha_string_limpa"
      ],
      "outputs": [],
      "metadata": {
        "id": "58f3f9b5"
      },
      "id": "58f3f9b5"
    },
    {
      "cell_type": "markdown",
      "source": [
        "# Comentários\n",
        "\n"
      ],
      "metadata": {
        "id": "53eadf31"
      },
      "id": "53eadf31"
    },
    {
      "cell_type": "markdown",
      "source": [
        "Uma linha comentada - uma nota que você não quer que seja interpretada como código pelo Python - começa com um sinal de `#`. Esse recurso é utilizado para que você e outros colaboradores entendam o que está acontecendo naquele ponto do seu código e o porquê de estar acontecendo.\n",
        "\n",
        "É recomendável usar esse recurso logo acima da linha de código que você deseja comentar:"
      ],
      "metadata": {
        "id": "gJRkGJq2MIY1"
      },
      "id": "gJRkGJq2MIY1"
    },
    {
      "cell_type": "code",
      "execution_count": null,
      "source": [
        "salario = 1021.34\n",
        "\n",
        "# convertendo este valor para inteiro para eliminar as casas decimais\n",
        "int(salario)"
      ],
      "outputs": [],
      "metadata": {
        "id": "8763975a"
      },
      "id": "8763975a"
    },
    {
      "cell_type": "markdown",
      "source": [
        "# A função `print()`\n",
        "\n"
      ],
      "metadata": {
        "id": "f2bd2ec4"
      },
      "id": "f2bd2ec4"
    },
    {
      "cell_type": "markdown",
      "source": [
        "Até então, nós executamos as células deste notebook para pegar o último valor retornado pelo código que escrevemos. Usar a função [`print()`](https://docs.python.org/pt-br/3/library/functions.html#print) é uma forma de imprimir na tela coisas específicas do seu código. Esta é também uma ferramenta bem útil para depuração de código.\n",
        "\n",
        "Para exibir múltiplos elementos na mesma linha, separe-os com uma vírgula."
      ],
      "metadata": {
        "id": "-nUExbJ8MqiT"
      },
      "id": "-nUExbJ8MqiT"
    },
    {
      "cell_type": "code",
      "execution_count": null,
      "source": [
        "print('Olá!')"
      ],
      "outputs": [],
      "metadata": {
        "id": "034fd283"
      },
      "id": "034fd283"
    },
    {
      "cell_type": "code",
      "execution_count": null,
      "source": [
        "print(meu_nome)"
      ],
      "outputs": [],
      "metadata": {
        "id": "c39bc6bb"
      },
      "id": "c39bc6bb"
    },
    {
      "cell_type": "code",
      "execution_count": null,
      "source": [
        "print('Olá,', meu_nome)"
      ],
      "outputs": [],
      "metadata": {
        "id": "af4fd086"
      },
      "id": "af4fd086"
    },
    {
      "cell_type": "markdown",
      "source": [
        "# Coleções de dados\n",
        "\n",
        "Agora iremos abordar duas maneiras que você pode usar Python para agrupar dados em uma coleção: listas e dicionários."
      ],
      "metadata": {
        "id": "bff733fa"
      },
      "id": "bff733fa"
    },
    {
      "cell_type": "markdown",
      "source": [
        "**Listas**\n",
        "\n",
        "Uma _lista_ é um conjunto de itens separados por vírgulas dentro de colchetes: `[]`.\n",
        "\n",
        "Aqui vai uma lista de ingredientes, cada um sendo uma string, que combinados formam a receita de um molho."
      ],
      "metadata": {
        "id": "0feb98c3"
      },
      "id": "0feb98c3"
    },
    {
      "cell_type": "code",
      "execution_count": null,
      "source": [
        "ingredientes_para_o_molho = ['tomate', 'cebola', 'pimenta', 'limão', 'coentro']"
      ],
      "outputs": [],
      "metadata": {
        "id": "9c3f8761"
      },
      "id": "9c3f8761"
    },
    {
      "cell_type": "markdown",
      "source": [
        "Para acessar um item de uma lista você deve informar sua posição numérica na lista - o seu _índice_ (1, 2, 3, etc.) - dentro de colchetes imediatamente após o nome da variável da lista. Assim como em muitas outras linguagens de programação, em Python a contagem começa em 0. Isso significa que o primeiro item de uma lista é o item `0`."
      ],
      "metadata": {
        "id": "1ec1bb5c"
      },
      "id": "1ec1bb5c"
    },
    {
      "cell_type": "code",
      "execution_count": null,
      "source": [
        "ingredientes_para_o_molho[0]"
      ],
      "outputs": [],
      "metadata": {
        "id": "ea20bc26"
      },
      "id": "ea20bc26"
    },
    {
      "cell_type": "code",
      "execution_count": null,
      "source": [
        "ingredientes_para_o_molho[1]"
      ],
      "outputs": [],
      "metadata": {
        "id": "8c70b25a"
      },
      "id": "8c70b25a"
    },
    {
      "cell_type": "markdown",
      "source": [
        "Você pode usar _índices negativos_ para acessar itens do lado direito da lista - e, na verdade, `[-1]` é um termo comum para acessar \"o último item da lista\"."
      ],
      "metadata": {
        "id": "7094472f"
      },
      "id": "7094472f"
    },
    {
      "cell_type": "code",
      "execution_count": null,
      "source": [
        "ingredientes_para_o_molho[-1]"
      ],
      "outputs": [],
      "metadata": {
        "id": "7dbd7432"
      },
      "id": "7dbd7432"
    },
    {
      "cell_type": "markdown",
      "source": [
        "Se o que você precisa é pegar um trecho com alguns itens da sua lista, você só precisa usar dois pontos e definir o intervalo em questão.\n",
        "\n",
        "Se quer acessar os primeiros três itens, por exemplo, é só fazer assim:"
      ],
      "metadata": {
        "id": "a905075b"
      },
      "id": "a905075b"
    },
    {
      "cell_type": "code",
      "execution_count": null,
      "source": [
        "ingredientes_para_o_molho[0:3]"
      ],
      "outputs": [],
      "metadata": {
        "id": "a8e48c2a"
      },
      "id": "a8e48c2a"
    },
    {
      "cell_type": "markdown",
      "source": [
        "Você poderia ter deixado de fora o 0 do começo - quando você não informa o primeiro número, o Python por padrão define para \"o primeiro item na lista.\" Da mesma forma, se você deixar de fora o último número, o padrão definido pelo Python é \"o último item da lista.\""
      ],
      "metadata": {
        "id": "a2f2eb3e"
      },
      "id": "a2f2eb3e"
    },
    {
      "cell_type": "code",
      "execution_count": null,
      "source": [
        "ingredientes_para_o_molho[:3]"
      ],
      "outputs": [],
      "metadata": {
        "id": "20b53847"
      },
      "id": "20b53847"
    },
    {
      "cell_type": "markdown",
      "source": [
        "Observe que essa fatia nos devolve os itens 0, 1 e 2. O item 3 no nosso conjunto é o primeiro item que nós _não_ queremos. Isso pode parecer confuso em um primeiro momento. Vamos observar mais alguns exemplos:"
      ],
      "metadata": {
        "id": "ab641bcd"
      },
      "id": "ab641bcd"
    },
    {
      "cell_type": "code",
      "execution_count": null,
      "source": [
        "# tudo na lista, exceto o item de número 0, ou seja, o primeiro\n",
        "ingredientes_para_o_molho[1:]"
      ],
      "outputs": [],
      "metadata": {
        "id": "84be4755"
      },
      "id": "84be4755"
    },
    {
      "cell_type": "code",
      "execution_count": null,
      "source": [
        "# o segundo, terceiro e quarto itens\n",
        "ingredientes_para_o_molho[1:4]"
      ],
      "outputs": [],
      "metadata": {
        "id": "bf9966f9"
      },
      "id": "bf9966f9"
    },
    {
      "cell_type": "code",
      "execution_count": null,
      "source": [
        "# os dois últimos itens\n",
        "ingredientes_para_o_molho[-2:]"
      ],
      "outputs": [],
      "metadata": {
        "id": "85e36c79"
      },
      "id": "85e36c79"
    },
    {
      "cell_type": "markdown",
      "source": [
        "Para saber quantos itens uma lista tem é só usar a funcão `len()`"
      ],
      "metadata": {
        "id": "ede9c332"
      },
      "id": "ede9c332"
    },
    {
      "cell_type": "code",
      "execution_count": null,
      "source": [
        "len(ingredientes_para_o_molho)"
      ],
      "outputs": [],
      "metadata": {
        "id": "8bc4b704"
      },
      "id": "8bc4b704"
    },
    {
      "cell_type": "markdown",
      "source": [
        "Para adicionar itens a uma lista, use o método `append()`:"
      ],
      "metadata": {
        "id": "5e0af166"
      },
      "id": "5e0af166"
    },
    {
      "cell_type": "code",
      "execution_count": null,
      "source": [
        "ingredientes_para_o_molho"
      ],
      "outputs": [],
      "metadata": {
        "id": "1639a921"
      },
      "id": "1639a921"
    },
    {
      "cell_type": "code",
      "execution_count": null,
      "source": [
        "ingredientes_para_o_molho.append('areia')"
      ],
      "outputs": [],
      "metadata": {
        "id": "6590a531"
      },
      "id": "6590a531"
    },
    {
      "cell_type": "code",
      "execution_count": null,
      "source": [
        "ingredientes_para_o_molho"
      ],
      "outputs": [],
      "metadata": {
        "id": "19d2ceee"
      },
      "id": "19d2ceee"
    },
    {
      "cell_type": "markdown",
      "source": [
        "O único problema aqui é que nosso molho ficou meio nojento.\n",
        "\n",
        "Para remover um item de uma lista, use o método `pop()`. Se você não informar o índice númerico do item específico que você quer remover, o valor padrão do método é o último item da lista."
      ],
      "metadata": {
        "id": "98bfec10"
      },
      "id": "98bfec10"
    },
    {
      "cell_type": "code",
      "execution_count": null,
      "source": [
        "ingredientes_para_o_molho.pop()"
      ],
      "outputs": [],
      "metadata": {
        "id": "7423f2cc"
      },
      "id": "7423f2cc"
    },
    {
      "cell_type": "code",
      "execution_count": null,
      "source": [
        "ingredientes_para_o_molho"
      ],
      "outputs": [],
      "metadata": {
        "id": "2c88e9ea"
      },
      "id": "2c88e9ea"
    },
    {
      "cell_type": "markdown",
      "source": [
        "Você pode usar as expressões [`in` e `not in`](https://docs.python.org/pt-br/3/reference/expressions.html#membership-test-operations) para verificar se um item pertence àquela lista (e irá lhe retornar um booleano):"
      ],
      "metadata": {
        "id": "44d04901"
      },
      "id": "44d04901"
    },
    {
      "cell_type": "code",
      "execution_count": null,
      "source": [
        "'limão' in ingredientes_para_o_molho"
      ],
      "outputs": [],
      "metadata": {
        "id": "22a25cfd"
      },
      "id": "22a25cfd"
    },
    {
      "cell_type": "code",
      "execution_count": null,
      "source": [
        "'coentro' not in ingredientes_para_o_molho"
      ],
      "outputs": [],
      "metadata": {
        "id": "a6011786"
      },
      "id": "a6011786"
    },
    {
      "cell_type": "markdown",
      "source": [
        "# Dicionários\n"
      ],
      "metadata": {
        "id": "ea0514be"
      },
      "id": "ea0514be"
    },
    {
      "cell_type": "markdown",
      "source": [
        "Um dicionário é um conjunto de pares de chave/valor, separados por vírgula, dentro de chaves: `{}`. Vamos fazer uma receita inteira de molho:"
      ],
      "metadata": {
        "id": "rGOF-5d6OdEV"
      },
      "id": "rGOF-5d6OdEV"
    },
    {
      "cell_type": "code",
      "execution_count": null,
      "source": [
        "molho = {\n",
        "    'ingredientes': ingredientes_para_o_molho,\n",
        "    'instrucoes': 'Corte todos os ingredientes e cozinhe eles por um tempinho.',\n",
        "    'porcoes': 12\n",
        "}"
      ],
      "outputs": [],
      "metadata": {
        "id": "70c8eb17"
      },
      "id": "70c8eb17"
    },
    {
      "cell_type": "markdown",
      "source": [
        "Para retornar um valor de um dicionário, você deve chamar o nome da sua respectiva chave dentro de colchetes `[]` imediatamente após o nome da variável do dicionário em questão."
      ],
      "metadata": {
        "id": "7a3a1493"
      },
      "id": "7a3a1493"
    },
    {
      "cell_type": "code",
      "execution_count": null,
      "source": [
        "molho['porcoes']"
      ],
      "outputs": [],
      "metadata": {
        "id": "31a2135d"
      },
      "id": "31a2135d"
    },
    {
      "cell_type": "code",
      "execution_count": null,
      "source": [
        "molho['ingredientes']"
      ],
      "outputs": [],
      "metadata": {
        "id": "eeea99f0"
      },
      "id": "eeea99f0"
    },
    {
      "cell_type": "markdown",
      "source": [
        "Para adicionar um novo conjunto de chave/valor a um dicionário, atribua uma nova chave dentro de colchetes ao dicionário desejado e defina o valor logo após o `=`:"
      ],
      "metadata": {
        "id": "5b4713da"
      },
      "id": "5b4713da"
    },
    {
      "cell_type": "code",
      "execution_count": null,
      "source": [
        "molho['esta_uma_delicia'] = True"
      ],
      "outputs": [],
      "metadata": {
        "id": "421d3adb"
      },
      "id": "421d3adb"
    },
    {
      "cell_type": "code",
      "execution_count": null,
      "source": [
        "molho"
      ],
      "outputs": [],
      "metadata": {
        "id": "733399a2"
      },
      "id": "733399a2"
    },
    {
      "cell_type": "markdown",
      "source": [
        "Para excluir um par chave/valor de um dicionário, utilize o comando `del` antes o nome do dicionário acompanhado da chave específica:"
      ],
      "metadata": {
        "id": "f8bd71d8"
      },
      "id": "f8bd71d8"
    },
    {
      "cell_type": "code",
      "execution_count": null,
      "source": [
        "del molho['esta_uma_delicia']"
      ],
      "outputs": [],
      "metadata": {
        "id": "0f84017e"
      },
      "id": "0f84017e"
    },
    {
      "cell_type": "code",
      "execution_count": null,
      "source": [
        "molho"
      ],
      "outputs": [],
      "metadata": {
        "id": "43e69c4a"
      },
      "id": "43e69c4a"
    },
    {
      "cell_type": "markdown",
      "source": [
        "# Indentação"
      ],
      "metadata": {
        "id": "f5d7aee6"
      },
      "id": "f5d7aee6"
    },
    {
      "cell_type": "markdown",
      "source": [
        "Espaços em branco fazem MUITA diferença para o Python. Às vezes você precisará indentar pedaços de código para que as coisas funcionem. Isso pode ser confuso! `IndentationError` é um tipo muito comum de erro, até mesmo para programadores mais experientes. Inclusive, alguns editores de notebook podem ser prestativos e te dar uma mãozinha inserindo espaços em branco para você em alguns casos.\n",
        "\n",
        "Você pode usar tabs ou espaços, só não misture os dois. [O guia de estilo do Python](https://www.python.org/dev/peps/pep-0008/) recomenda que você indente seu código com quatro espaços, então será isso o que nós usaremos."
      ],
      "metadata": {
        "id": "aCL3SgaQO4iW"
      },
      "id": "aCL3SgaQO4iW"
    },
    {
      "cell_type": "markdown",
      "source": [
        "# Estrutura de repetição `for`\n",
        "\n"
      ],
      "metadata": {
        "id": "3e3902f3"
      },
      "id": "3e3902f3"
    },
    {
      "cell_type": "markdown",
      "source": [
        "Você deve usar um `for` para iterar sobre uma coleção de coisas.\n",
        "\n",
        "Abaixo, nossa declaração começa com a palavra-chave `for` (em minúsculas), e então uma variável chamada `numero`. Você pode chamar essa variável como quiser. Então, insira a palavra-chave `in` e em seguida a coleção que você está percorrendo (ou o nome da sua variável), e então dois pontos. Após isso vamos colocar um bloco indentado de código com instruções sobre o que fazer com cada item na coleção.\n",
        "\n",
        "Digamos que temos uma lista de números chamada `lista_de_numeros`."
      ],
      "metadata": {
        "id": "lDlQwUw4PKSD"
      },
      "id": "lDlQwUw4PKSD"
    },
    {
      "cell_type": "code",
      "execution_count": null,
      "source": [
        "lista_de_numeros = [1, 2, 3, 4, 5, 6]"
      ],
      "outputs": [],
      "metadata": {
        "id": "f31b896b"
      },
      "id": "f31b896b"
    },
    {
      "cell_type": "markdown",
      "source": [
        "É possível percorer os elementos da lista e imprimir cada um deles na tela:"
      ],
      "metadata": {
        "id": "83bac500"
      },
      "id": "83bac500"
    },
    {
      "cell_type": "code",
      "execution_count": null,
      "source": [
        "for numero in lista_de_numeros:\n",
        "    print(numero)"
      ],
      "outputs": [],
      "metadata": {
        "id": "32066469"
      },
      "id": "32066469"
    },
    {
      "cell_type": "markdown",
      "source": [
        "Podemos também exibir na tela cada número da lista _multiplicado_ por 6:"
      ],
      "metadata": {
        "id": "8e51a4cb"
      },
      "id": "8e51a4cb"
    },
    {
      "cell_type": "code",
      "execution_count": null,
      "source": [
        "for numero in lista_de_numeros:\n",
        "    print(numero*6)"
      ],
      "outputs": [],
      "metadata": {
        "id": "beacc1fe"
      },
      "id": "beacc1fe"
    },
    {
      "cell_type": "markdown",
      "source": [
        " Observe que a escolha de nome da variável chamada de `numero` na sua repetição é totalmente aleatória. Muitas vezes, você irá ver uma expressão como `for i in alguma_lista`, por exemplo, mas qualquer coisa funcionaria no lugar do `i`. Veja:"
      ],
      "metadata": {
        "id": "9de59d01"
      },
      "id": "9de59d01"
    },
    {
      "cell_type": "code",
      "execution_count": null,
      "source": [
        "for banana in lista_de_numeros:\n",
        "    print(banana)"
      ],
      "outputs": [],
      "metadata": {
        "id": "30739123"
      },
      "id": "30739123"
    },
    {
      "cell_type": "markdown",
      "source": [
        "Talvez seja desafiador, em um primeiro momento, diferenciar o que é uma \"palavra reservada do Python\" e o que é o nome de uma variável que você pode definir. Isso, no entanto, vem com a prática."
      ],
      "metadata": {
        "id": "3ab46599"
      },
      "id": "3ab46599"
    },
    {
      "cell_type": "markdown",
      "source": [
        "Também dá pra iterar sobre os elementos de uma string. Vamos percorrer sobre as letras nesta sentença:"
      ],
      "metadata": {
        "id": "15331646"
      },
      "id": "15331646"
    },
    {
      "cell_type": "code",
      "execution_count": null,
      "source": [
        "sentenca = 'Olá, Sexta-Feira'\n",
        "\n",
        "for letra in sentenca:\n",
        "    print(letra)"
      ],
      "outputs": [],
      "metadata": {
        "id": "9f1ab92a"
      },
      "id": "9f1ab92a"
    },
    {
      "cell_type": "markdown",
      "source": [
        "Ou seja, strings são iteráveis, assim como listas, logo, você pode utilizar os mesmos métodos:"
      ],
      "metadata": {
        "id": "908e8c98"
      },
      "id": "908e8c98"
    },
    {
      "cell_type": "code",
      "execution_count": null,
      "source": [
        "# pegue os primeiros cinco caracteres\n",
        "sentenca[:5]"
      ],
      "outputs": [],
      "metadata": {
        "id": "9154bde2"
      },
      "id": "9154bde2"
    },
    {
      "cell_type": "code",
      "execution_count": null,
      "source": [
        "# descubra o tamanho da sentenca\n",
        "len(sentenca)"
      ],
      "outputs": [],
      "metadata": {
        "id": "d6eed1ec"
      },
      "id": "d6eed1ec"
    },
    {
      "cell_type": "code",
      "execution_count": null,
      "source": [
        "'Olá' in sentenca"
      ],
      "outputs": [],
      "metadata": {
        "id": "c0f66494"
      },
      "id": "c0f66494"
    },
    {
      "cell_type": "markdown",
      "source": [
        "Você pode percorrer os elementos de um dicionário também - só tenha em mente que dicionários _não registram a ordem que os itens foram adicionados nele_.\n",
        "\n",
        "Quando você está iterando sobre um dicionário, a variável que você colocou após o `for` irá remeter às chaves. Vamos percorrer sobre nosso dicionário `molho` ali de cima:"
      ],
      "metadata": {
        "id": "ae8f1c22"
      },
      "id": "ae8f1c22"
    },
    {
      "cell_type": "code",
      "execution_count": null,
      "source": [
        "for chave in molho:\n",
        "    print(chave)"
      ],
      "outputs": [],
      "metadata": {
        "id": "e103fb2a"
      },
      "id": "e103fb2a"
    },
    {
      "cell_type": "markdown",
      "source": [
        "Para pegar o _valor_ do item de um dicionário em uma iteração você deve usar a chave:"
      ],
      "metadata": {
        "id": "5557ca4f"
      },
      "id": "5557ca4f"
    },
    {
      "cell_type": "code",
      "execution_count": null,
      "source": [
        "for chave in molho:\n",
        "    print(molho[chave])"
      ],
      "outputs": [],
      "metadata": {
        "id": "2c50475b"
      },
      "id": "2c50475b"
    },
    {
      "cell_type": "markdown",
      "source": [
        "# Declarações `if`\n"
      ],
      "metadata": {
        "id": "6e08b9f3"
      },
      "id": "6e08b9f3"
    },
    {
      "cell_type": "markdown",
      "source": [
        "Assim como no Excel, você pode lançar mão da estrutura \"SE\" para lidar com lógica condicional.\n",
        "\n",
        "No Python, essas declarações começam com a palavra-chave `if` (em minúsculas), a condição a ser avaliada, seguida de dois pontos, e então uma nova linha de bloco de código indentado para então executar o código, se a condição encontrada for `True` (verdadeira)."
      ],
      "metadata": {
        "id": "IJTXacHSQSdZ"
      },
      "id": "IJTXacHSQSdZ"
    },
    {
      "cell_type": "code",
      "execution_count": null,
      "source": [
        "if 4 < 6:\n",
        "    print('4 é menor do que 6')"
      ],
      "outputs": [],
      "metadata": {
        "id": "24495580"
      },
      "id": "24495580"
    },
    {
      "cell_type": "markdown",
      "source": [
        "Você também pode adicionar um `else` com um bloco de código indentado caso a condição encontrada for `False` (falsa)."
      ],
      "metadata": {
        "id": "aa41acfb"
      },
      "id": "aa41acfb"
    },
    {
      "cell_type": "code",
      "execution_count": null,
      "source": [
        "if 4 > 6:\n",
        "    print('4 é maior do que 6?!')\n",
        "else:\n",
        "    print('4 não é maior do que 6.')"
      ],
      "outputs": [],
      "metadata": {
        "id": "320f0a96"
      },
      "id": "320f0a96"
    },
    {
      "cell_type": "markdown",
      "source": [
        "Se você precisar, você pode adicionar múltiplas condições com `elif`. Experimente alterar os resultados do placar e executar a célular para ver o código em funcionamento."
      ],
      "metadata": {
        "id": "c5bb999d"
      },
      "id": "c5bb999d"
    },
    {
      "cell_type": "code",
      "execution_count": null,
      "source": [
        "NOSSO_PLACAR = 6\n",
        "PLACAR_DO_OUTRO_TIME = 8\n",
        "\n",
        "if NOSSO_PLACAR > PLACAR_DO_OUTRO_TIME:\n",
        "    print('Ganhamos!')\n",
        "elif PLACAR_DO_OUTRO_TIME < NOSSO_PLACAR:\n",
        "    print('Empatamos!')\n",
        "else:\n",
        "    print('Perdemos!')"
      ],
      "outputs": [],
      "metadata": {
        "id": "9df8bffa"
      },
      "id": "9df8bffa"
    },
    {
      "cell_type": "markdown",
      "source": [
        "Agora que você entendeu como funciona a linguagem Python, já pode dar seus primeiros passos [aprendendo a biblioteca Pandas usando este notebook](Pandas.ipynb)"
      ],
      "metadata": {
        "id": "lvyCtQGbQpj1"
      },
      "id": "lvyCtQGbQpj1"
    }
  ]
}